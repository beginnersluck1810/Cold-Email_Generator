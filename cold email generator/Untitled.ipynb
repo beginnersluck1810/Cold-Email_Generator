{
 "cells": [
  {
   "cell_type": "code",
   "execution_count": 2,
   "id": "b7f46788-c5bc-431c-ad91-bdc5ffde1ff9",
   "metadata": {},
   "outputs": [
    {
     "name": "stdout",
     "output_type": "stream",
     "text": [
      "An electric dipole is a pair of electric charges, one positive and one negative, that are separated by a small distance. The two charges are typically equal in magnitude but opposite in sign, and they are usually fixed in place, meaning they do not move relative to each other.\n",
      "\n",
      "The electric dipole is characterized by its dipole moment, which is a vector quantity that depends on the magnitude of the charges and the distance between them. The dipole moment (p) is defined as the product of the charge (q) and the distance (d) between the charges:\n",
      "\n",
      "p = qd\n",
      "\n",
      "The direction of the dipole moment is from the negative charge to the positive charge.\n",
      "\n",
      "Electric dipoles are important in physics because they are the simplest example of a system that produces an electric field. The electric field produced by a dipole is characterized by a specific pattern of field lines that emerge from the positive charge and enter the negative charge.\n",
      "\n",
      "Examples of electric dipoles include:\n",
      "\n",
      "* A pair of opposite charges on a molecule, such as a water molecule (H2O)\n",
      "* A pair of opposite charges on a metal rod or wire\n",
      "* A capacitor, which consists of two conductive plates separated by a small distance\n",
      "\n",
      "Electric dipoles play a crucial role in many areas of physics, including electromagnetism, chemistry, and materials science.\n"
     ]
    }
   ],
   "source": [
    "from langchain_groq import ChatGroq\n",
    "\n",
    "llm = ChatGroq(\n",
    "    temperature=0,\n",
    "    groq_api_key='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',\n",
    "     model=\"llama-3.3-70b-versatile\"\n",
    ")\n",
    "\n",
    "response=llm.invoke(\"Define an electric dipole\")\n",
    "print(response.content)"
   ]
  },
  {
   "cell_type": "code",
   "execution_count": 19,
   "id": "f7c03c42-ef79-4d1c-b462-b80cb978034f",
   "metadata": {},
   "outputs": [
    {
     "name": "stdout",
     "output_type": "stream",
     "text": [
      "Matter is anything that has mass and takes up space. It is the physical substance that makes up everything around us, from the air we breathe to the stars in the sky. Matter can exist in different forms, such as solid, liquid, gas, and plasma, and it can be composed of various elements and compounds.\n",
      "\n",
      "The definition of matter is based on the following properties:\n",
      "\n",
      "1. **Mass**: Matter has mass, which is a measure of the amount of matter in an object. Mass is typically measured in units of kilograms or grams.\n",
      "2. **Occupies space**: Matter takes up space, which means it has a volume. The volume of an object is the amount of space it occupies.\n",
      "3. **Has inertia**: Matter has inertia, which means it resists changes in its motion. In other words, an object at rest will remain at rest, and an object in motion will continue to move, unless acted upon by an external force.\n",
      "\n",
      "Matter can be classified into different types, including:\n",
      "\n",
      "1. **Elements**: Elements are the simplest form of matter, consisting of only one type of atom. Examples of elements include hydrogen, oxygen, and carbon.\n",
      "2. **Compounds**: Compounds are formed when two or more elements are chemically bonded together. Examples of compounds include water (H2O), carbon dioxide (CO2), and sodium chloride (NaCl).\n",
      "3. **Mixtures**: Mixtures are combinations of two or more substances that are not chemically bonded together. Examples of mixtures include air, soil, and concrete.\n",
      "\n",
      "Matter can also be classified into different states, including:\n",
      "\n",
      "1. **Solid**: Solids have a fixed shape and volume. Examples of solids include rocks, metals, and ice.\n",
      "2. **Liquid**: Liquids have a fixed volume but take the shape of their container. Examples of liquids include water, oil, and juice.\n",
      "3. **Gas**: Gases have neither a fixed shape nor a fixed volume. Examples of gases include air, helium, and oxygen.\n",
      "4. **Plasma**: Plasma is a high-energy state of matter, often referred to as the fourth state of matter. It is composed of ions and free electrons, and is typically found in stars, lightning, and neon signs.\n",
      "\n",
      "In summary, matter is anything that has mass and takes up space, and it can exist in different forms, such as elements, compounds, mixtures, and different states, including solid, liquid, gas, and plasma.\n"
     ]
    }
   ],
   "source": [
    "response=llm.invoke(\"what is matter.\")\n",
    "print(response.content)"
   ]
  },
  {
   "cell_type": "code",
   "execution_count": 4,
   "id": "80d5900c-6b76-4724-962b-e913f328fb73",
   "metadata": {},
   "outputs": [
    {
     "ename": "ModuleNotFoundError",
     "evalue": "No module named 'langchain_community'",
     "output_type": "error",
     "traceback": [
      "\u001b[0;31m---------------------------------------------------------------------------\u001b[0m",
      "\u001b[0;31mModuleNotFoundError\u001b[0m                       Traceback (most recent call last)",
      "Cell \u001b[0;32mIn[4], line 1\u001b[0m\n\u001b[0;32m----> 1\u001b[0m \u001b[38;5;28;01mfrom\u001b[39;00m \u001b[38;5;21;01mlangchain_community\u001b[39;00m\u001b[38;5;21;01m.\u001b[39;00m\u001b[38;5;21;01mdocument_loaders\u001b[39;00m \u001b[38;5;28;01mimport\u001b[39;00m WebBaseLoader\n\u001b[1;32m      2\u001b[0m loader\u001b[38;5;241m=\u001b[39mWebBaseLoader(\u001b[38;5;124m\"\u001b[39m\u001b[38;5;124mhttps://careers.nike.com/account-partner-representative-running/job/R-48398\u001b[39m\u001b[38;5;124m\"\u001b[39m)\n\u001b[1;32m      3\u001b[0m page_data\u001b[38;5;241m=\u001b[39mloader\u001b[38;5;241m.\u001b[39mload()\u001b[38;5;241m.\u001b[39mpop()\u001b[38;5;241m.\u001b[39mpage_content\n",
      "\u001b[0;31mModuleNotFoundError\u001b[0m: No module named 'langchain_community'"
     ]
    }
   ],
   "source": [
    "from langchain_community.document_loaders import WebBaseLoader\n",
    "loader=WebBaseLoader(\"https://careers.nike.com/account-partner-representative-running/job/R-48398\")\n",
    "page_data=loader.load().pop().page_content\n",
    "print(page_data)"
   ]
  },
  {
   "cell_type": "code",
   "execution_count": null,
   "id": "cbf19a3a-2ce2-49a4-ba67-1072ac7e1e93",
   "metadata": {},
   "outputs": [],
   "source": []
  }
 ],
 "metadata": {
  "kernelspec": {
   "display_name": "Python [conda env:base] *",
   "language": "python",
   "name": "conda-base-py"
  },
  "language_info": {
   "codemirror_mode": {
    "name": "ipython",
    "version": 3
   },
   "file_extension": ".py",
   "mimetype": "text/x-python",
   "name": "python",
   "nbconvert_exporter": "python",
   "pygments_lexer": "ipython3",
   "version": "3.12.7"
  }
 },
 "nbformat": 4,
 "nbformat_minor": 5
}
